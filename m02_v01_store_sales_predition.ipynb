{
  "nbformat": 4,
  "nbformat_minor": 0,
  "metadata": {
    "colab": {
      "provenance": [],
      "authorship_tag": "ABX9TyMub55TK/JfGPYH8jsPlIfU",
      "include_colab_link": true
    },
    "kernelspec": {
      "name": "python3",
      "display_name": "Python 3"
    },
    "language_info": {
      "name": "python"
    }
  },
  "cells": [
    {
      "cell_type": "markdown",
      "metadata": {
        "id": "view-in-github",
        "colab_type": "text"
      },
      "source": [
        "<a href=\"https://colab.research.google.com/github/EvilynAlbuquerque/Data_Science_em_Producao/blob/main/m02_v01_store_sales_predition.ipynb\" target=\"_parent\"><img src=\"https://colab.research.google.com/assets/colab-badge.svg\" alt=\"Open In Colab\"/></a>"
      ]
    },
    {
      "cell_type": "markdown",
      "source": [
        "#0.0 Imports"
      ],
      "metadata": {
        "id": "0TDkCKHlmivD"
      }
    },
    {
      "cell_type": "code",
      "source": [],
      "metadata": {
        "id": "vsV0KiaamrBw"
      },
      "execution_count": null,
      "outputs": []
    },
    {
      "cell_type": "markdown",
      "source": [
        "## 0.1 Helper Funtions"
      ],
      "metadata": {
        "id": "kHZaKxBqmtDs"
      }
    },
    {
      "cell_type": "markdown",
      "source": [
        "## 0.2 Loading Data"
      ],
      "metadata": {
        "id": "2U8QG_dzmyDb"
      }
    },
    {
      "cell_type": "code",
      "source": [
        "read_csv()"
      ],
      "metadata": {
        "id": "z4WUGPnHnJSM"
      },
      "execution_count": null,
      "outputs": []
    },
    {
      "cell_type": "markdown",
      "source": [
        "# 1.0 Descrição dos Dados"
      ],
      "metadata": {
        "id": "X4gr5QZUm2Fn"
      }
    },
    {
      "cell_type": "markdown",
      "source": [
        "## 1.1"
      ],
      "metadata": {
        "id": "PqvUpEJLm5DP"
      }
    },
    {
      "cell_type": "markdown",
      "source": [
        "## 1.2"
      ],
      "metadata": {
        "id": "yQ-j1Ap2m-C3"
      }
    },
    {
      "cell_type": "markdown",
      "source": [
        "## 1.3"
      ],
      "metadata": {
        "id": "KXiJiG8pnB_f"
      }
    },
    {
      "cell_type": "markdown",
      "source": [
        "## 1.4"
      ],
      "metadata": {
        "id": "AjX6Rgk1nCr5"
      }
    },
    {
      "cell_type": "markdown",
      "source": [
        "## 1.5"
      ],
      "metadata": {
        "id": "sTgyL8C2nDhN"
      }
    },
    {
      "cell_type": "markdown",
      "source": [
        "## 1.6"
      ],
      "metadata": {
        "id": "jF1fUqiGnEKI"
      }
    },
    {
      "cell_type": "markdown",
      "source": [
        "## 1.7"
      ],
      "metadata": {
        "id": "ix7bUOHznEuk"
      }
    },
    {
      "cell_type": "markdown",
      "source": [
        "## 1.8"
      ],
      "metadata": {
        "id": "UefbqCxxnFWI"
      }
    },
    {
      "cell_type": "code",
      "source": [],
      "metadata": {
        "id": "TZr241YLnHO2"
      },
      "execution_count": null,
      "outputs": []
    }
  ]
}